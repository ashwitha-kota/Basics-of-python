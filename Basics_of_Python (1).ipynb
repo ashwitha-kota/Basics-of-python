{
  "nbformat": 4,
  "nbformat_minor": 0,
  "metadata": {
    "colab": {
      "provenance": []
    },
    "kernelspec": {
      "name": "python3",
      "display_name": "Python 3"
    },
    "language_info": {
      "name": "python"
    }
  },
  "cells": [
    {
      "cell_type": "markdown",
      "source": [
        "# **1.Prime number or not**"
      ],
      "metadata": {
        "id": "QjWn-6-_Pv2D"
      }
    },
    {
      "cell_type": "code",
      "source": [
        "num=int(input(\"Enter a number:\"))\n",
        "for i in range(2,num):\n",
        "  if num%i==0:\n",
        "    print(\"not a prime number\")\n",
        "    break\n",
        "else:\n",
        "      print(\"The given number is a prime number\")"
      ],
      "metadata": {
        "colab": {
          "base_uri": "https://localhost:8080/"
        },
        "id": "ztjIEpHXFtOv",
        "outputId": "482bc08f-3914-4fe6-8403-4e22ecd6ba8b"
      },
      "execution_count": null,
      "outputs": [
        {
          "output_type": "stream",
          "name": "stdout",
          "text": [
            "Enter a number:7\n",
            "The given number is a prime number\n"
          ]
        }
      ]
    },
    {
      "cell_type": "markdown",
      "source": [
        "#**2. Product of Random Numbers**"
      ],
      "metadata": {
        "id": "0Bt9fsBvQDbM"
      }
    },
    {
      "cell_type": "code",
      "source": [
        "import random\n",
        "\n",
        "def multiplication_quiz():\n",
        "    \"\"\"Generates two random numbers, asks for their product, and checks the answer.\"\"\"\n",
        "\n",
        "    # Generate two random numbers between 1 and 10\n",
        "    num1 = random.randint(1, 10)\n",
        "    num2 = random.randint(1, 10)\n",
        "\n",
        "    # Calculate the correct product\n",
        "    correct_product = num1 * num2\n",
        "\n",
        "    # Ask the user for the product\n",
        "    try:\n",
        "        user_answer = int(input(f\"What is {num1} x {num2}? \"))\n",
        "\n",
        "        # Check if the answer is correct\n",
        "        if user_answer == correct_product:\n",
        "            print(\"Correct!\")\n",
        "        else:\n",
        "            print(f\"Incorrect. The correct answer is {correct_product}.\")\n",
        "\n",
        "    except ValueError:\n",
        "        print(\"Invalid input. Please enter a number.\")\n",
        "\n",
        "# Run the quiz\n",
        "multiplication_quiz()"
      ],
      "metadata": {
        "colab": {
          "base_uri": "https://localhost:8080/"
        },
        "id": "SzqQDFTpHDt1",
        "outputId": "892a1477-8ba8-4184-8d11-b8201cdf7814"
      },
      "execution_count": null,
      "outputs": [
        {
          "output_type": "stream",
          "name": "stdout",
          "text": [
            "What is 4 x 5? 20\n",
            "Correct!\n"
          ]
        }
      ]
    },
    {
      "cell_type": "markdown",
      "source": [
        "#**3. Squares of Even Numbers**"
      ],
      "metadata": {
        "id": "fTA4KGT1QPlA"
      }
    },
    {
      "cell_type": "code",
      "source": [
        "def print_squares_of_even_numbers():\n",
        "    \"\"\"Prints the squares of all even numbers between 100 and 200 (inclusive).\"\"\"\n",
        "\n",
        "    for number in range(100, 201):  # Iterate from 100 to 200\n",
        "        if number % 2 == 0:  # Check if the number is even\n",
        "            square = number * number\n",
        "            print(f\"The square of {number} is {square}\")\n",
        "\n",
        "print_squares_of_even_numbers()"
      ],
      "metadata": {
        "colab": {
          "base_uri": "https://localhost:8080/"
        },
        "id": "te0oZQAFHqPt",
        "outputId": "87d1228e-0814-4ed2-dcf4-dfa603851f84"
      },
      "execution_count": null,
      "outputs": [
        {
          "output_type": "stream",
          "name": "stdout",
          "text": [
            "The square of 100 is 10000\n",
            "The square of 102 is 10404\n",
            "The square of 104 is 10816\n",
            "The square of 106 is 11236\n",
            "The square of 108 is 11664\n",
            "The square of 110 is 12100\n",
            "The square of 112 is 12544\n",
            "The square of 114 is 12996\n",
            "The square of 116 is 13456\n",
            "The square of 118 is 13924\n",
            "The square of 120 is 14400\n",
            "The square of 122 is 14884\n",
            "The square of 124 is 15376\n",
            "The square of 126 is 15876\n",
            "The square of 128 is 16384\n",
            "The square of 130 is 16900\n",
            "The square of 132 is 17424\n",
            "The square of 134 is 17956\n",
            "The square of 136 is 18496\n",
            "The square of 138 is 19044\n",
            "The square of 140 is 19600\n",
            "The square of 142 is 20164\n",
            "The square of 144 is 20736\n",
            "The square of 146 is 21316\n",
            "The square of 148 is 21904\n",
            "The square of 150 is 22500\n",
            "The square of 152 is 23104\n",
            "The square of 154 is 23716\n",
            "The square of 156 is 24336\n",
            "The square of 158 is 24964\n",
            "The square of 160 is 25600\n",
            "The square of 162 is 26244\n",
            "The square of 164 is 26896\n",
            "The square of 166 is 27556\n",
            "The square of 168 is 28224\n",
            "The square of 170 is 28900\n",
            "The square of 172 is 29584\n",
            "The square of 174 is 30276\n",
            "The square of 176 is 30976\n",
            "The square of 178 is 31684\n",
            "The square of 180 is 32400\n",
            "The square of 182 is 33124\n",
            "The square of 184 is 33856\n",
            "The square of 186 is 34596\n",
            "The square of 188 is 35344\n",
            "The square of 190 is 36100\n",
            "The square of 192 is 36864\n",
            "The square of 194 is 37636\n",
            "The square of 196 is 38416\n",
            "The square of 198 is 39204\n",
            "The square of 200 is 40000\n"
          ]
        }
      ]
    },
    {
      "cell_type": "markdown",
      "source": [
        "#**4.Word counter**"
      ],
      "metadata": {
        "id": "W9Pdo-_NQylv"
      }
    },
    {
      "cell_type": "markdown",
      "source": [],
      "metadata": {
        "id": "eTiYZCHNQusE"
      }
    },
    {
      "cell_type": "code",
      "source": [
        "def count_words(text):\n",
        "    \"\"\"Count the number of occurrences of each word in the given text.\n",
        "\n",
        "    Args:\n",
        "        text (str): The input text to analyze.\n",
        "\n",
        "    Returns:\n",
        "        dict: A dictionary with words as keys and their counts as values.\n",
        "    \"\"\"\n",
        "    # Remove punctuation and convert text to lowercase for case-insensitive counting\n",
        "    text = text.lower()\n",
        "\n",
        "    # Replace punctuation with spaces\n",
        "    for char in '.,!?;:()[]{}\"\\'\\/-':\n",
        "        text = text.replace(char, \" \")\n",
        "\n",
        "    # Split the text into words\n",
        "    words = text.split()\n",
        "\n",
        "    # Initialize an empty dictionary to store word counts\n",
        "    word_count = {}\n",
        "\n",
        "    # Count the occurrences of each word\n",
        "    for word in words:\n",
        "        if word in word_count:\n",
        "            word_count[word] += 1\n",
        "        else:\n",
        "            word_count[word] = 1\n",
        "\n",
        "    return word_count\n",
        "\n",
        "\n",
        "def main():\n",
        "    # Example input text\n",
        "    input_text = \"This is a sample text. This text will be used to demonstrate the word counter.\"\n",
        "\n",
        "    # Get the word counts\n",
        "    word_count = count_words(input_text)\n",
        "\n",
        "    # Print the word counts\n",
        "    print_word_counts(word_count)\n",
        "\n",
        "if __name__ == \"__main__\":\n",
        "    main()\n",
        "\n",
        "\n",
        "\n",
        "\n",
        "\n",
        "\n",
        "\n"
      ],
      "metadata": {
        "colab": {
          "base_uri": "https://localhost:8080/"
        },
        "id": "uzXgGHyyIG9q",
        "outputId": "454a077a-96d1-4df9-ad88-dbab10ae0f85"
      },
      "execution_count": null,
      "outputs": [
        {
          "output_type": "stream",
          "name": "stdout",
          "text": [
            "'this': 2\n",
            "'is': 1\n",
            "'a': 1\n",
            "'sample': 1\n",
            "'text': 2\n",
            "'will': 1\n",
            "'be': 1\n",
            "'used': 1\n",
            "'to': 1\n",
            "'demonstrate': 1\n",
            "'the': 1\n",
            "'word': 1\n",
            "'counter': 1\n"
          ]
        }
      ]
    },
    {
      "cell_type": "markdown",
      "source": [
        "#**5. Check for Palindrome**"
      ],
      "metadata": {
        "id": "dSgbxkKiQqyu"
      }
    },
    {
      "cell_type": "markdown",
      "source": [],
      "metadata": {
        "id": "4pvC7SlBQoni"
      }
    },
    {
      "cell_type": "code",
      "source": [
        "import re #re is  regular expression pattern and a string and searches for that pattern within the string.\n",
        "def is_palindrome(s):\n",
        "    \"\"\"Check if the input string is a palindrome.\n",
        "\n",
        "    Args:\n",
        "        s (str): The input string to check.\n",
        "\n",
        "    Returns:\n",
        "        bool: True if the string is a palindrome, False otherwise.\n",
        "    \"\"\"\n",
        "    # Normalize the string: remove non-alphanumeric characters and convert to lowercase\n",
        "    normalized_str = re.sub(r'[^A-Za-z0-9]', '', s).lower()\n",
        "\n",
        "    # Check if the normalized string is the same forwards and backwards\n",
        "    return normalized_str == normalized_str[::-1]\n",
        "\n",
        "# Example usage1\n",
        "input_str = \"racecar\"\n",
        "print(f\"Is '{input_str}' a palindrome? {is_palindrome(input_str)}\")\n",
        "\n",
        "#Example usage2\n",
        "input_str = \"malayalam\"\n",
        "print(f\"Is '{input_str}' a palindrome? {is_palindrome(input_str)}\")"
      ],
      "metadata": {
        "colab": {
          "base_uri": "https://localhost:8080/"
        },
        "id": "P38M6kDOMov1",
        "outputId": "811c94de-1686-424f-e87f-c3d1927ddec0"
      },
      "execution_count": null,
      "outputs": [
        {
          "output_type": "stream",
          "name": "stdout",
          "text": [
            "Is 'racecar' a palindrome? True\n",
            "Is 'malayalam' a palindrome? True\n"
          ]
        }
      ]
    },
    {
      "cell_type": "code",
      "source": [],
      "metadata": {
        "id": "8VWd2V6xNwRL"
      },
      "execution_count": null,
      "outputs": []
    }
  ]
}